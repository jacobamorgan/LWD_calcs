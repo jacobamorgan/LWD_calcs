{
 "cells": [
  {
   "cell_type": "markdown",
   "metadata": {},
   "source": [
    "# Large Wood Calculations\n",
    "\n",
    "*Reference: Stream Habitat Restoration Guidelines (SHRG), Anchoring and Placement of Large Wood Appendix, 2012*\n",
    "\n",
    "***\n",
    "\n",
    "#### Equations:\n",
    "\n",
    "The vertical forces are the gravity force (weight of the log), $F_G$, and the buoyant force, $F_B$, calculated as follows:\n",
    "\n",
    "\\begin{equation*}\n",
    "    F_G = Vol_{wood}\\times\\gamma_{wood}\n",
    "\\label{eq:force_gravity} \\tag{Equation 1}\n",
    "\\end{equation*}\n",
    "\n",
    "\\begin{equation*}\n",
    "    F_B = Vol_{woodSubmerged}\\times\\gamma_{water}\n",
    "\\label{eq:force_buoyant} \\tag{Equation 2}\n",
    "\\end{equation*}\n",
    "\n",
    "where:\n",
    "\n",
    "- $\\gamma_{water}$ is the specific weight of water, 62.4 lbs/ft<sup>3</sup> (or pcf)\n",
    "- $\\gamma_{wood}$ is the specific weight of wood, 33 lbs/ft<sup>3</sup> for Douglas Fir\n",
    "- $Vol_{wood}$ is the total volume of wood and $Vol_{woodSubmerged}$ is the volume of the portion of submerged wood\n",
    "\n",
    "In the horizontal, the friction force, $F_f$, is defined as:\n",
    "\n",
    "\\begin{equation*}\n",
    "    F_f = \\mu\\times F_N\n",
    "\\label{eq:force_friction} \\tag{Equation 3}\n",
    "\\end{equation*}\n",
    "\n",
    "where:\n",
    "\n",
    "- $\\mu$ is a coefficient of friction based on the internal angle of friction (0.4 for sand, 0.9 for gravel)\n",
    "- $F_N$ is the net weight of the log, acting as the normal force\n",
    "\n",
    "The dynamic fluid forces, or drag, $F_D$, are the destabilizing forces that are offset by friction. This force is calculated as:\n",
    "\n",
    "\\begin{equation*}\n",
    "    F_D = \\left(\\frac{v^2}{2g}\\right)\\times A_{SW} \\times C'_D \\times \\rho_{w}\n",
    "\\label{eq:force_fluid} \\tag{Equation 4}\n",
    "\\end{equation*}\n",
    "\n",
    "where:\n",
    "\n",
    "- $v$ is the mean incidental flow velocity\n",
    "- $\\rho_w$ is the density of water\n",
    "- $g$ is the acceleration due to gravity\n",
    "- $A_{SW}$ is the area of the submerged wood normal to the incident flow\n",
    "- $C'_D$ is the drag coefficient and is a function of the object's shape, orientationto flow, grouping and boundary conditions\n",
    "\n",
    "First, we will load the necessary modules:"
   ]
  },
  {
   "cell_type": "code",
   "execution_count": 1,
   "metadata": {},
   "outputs": [],
   "source": [
    "import numpy as np # for mathematical operations\n",
    "import matplotlib.pyplot as plt # for creating figures\n",
    "from LWD_calcs import LWD_calcs # for performing LWD calculations"
   ]
  },
  {
   "cell_type": "markdown",
   "metadata": {},
   "source": [
    "Next, we will define our physical constants. For simplicity in calling functions, parameters will be grouped into structured arrays."
   ]
  },
  {
   "cell_type": "code",
   "execution_count": 2,
   "metadata": {},
   "outputs": [],
   "source": [
    "####################################################################################################\n",
    "####################################################################################################\n",
    "## CONSTANTS\n",
    "####################################################################################################\n",
    "####################################################################################################\n",
    "# create CONSTANTS structured array, preallocate with zeros\n",
    "CONST = np.zeros(1, dtype={'names':('g', 'gam_wat', 'gam_wood', 'gam_soil', 'gam_soil_sat',\n",
    "                                    'gam_bldr', 'C_DU', 'C_DP', 'mu_gravel', 'mu_sand'),\n",
    "                           'formats':('f8', 'f8', 'f8', 'f8', 'f8',\n",
    "                                       'f8', 'f8', 'f8', 'f8', 'f8')})\n",
    "####################################################################################################\n",
    "# define constant parameters\n",
    "CONST['g'] = 32.2 # gravitational acceleration (ft/s^2)\n",
    "CONST['gam_wat'] = 62.4 # unit weight of water (lbf/ft^3)\n",
    "CONST['gam_wood'] = 33.0 # unit weight of wood, Douglas Fir (lbf/ft^3)\n",
    "CONST['gam_soil'] = 105.0 # dry unit weight of soil (lbf/ft^3)\n",
    "CONST['gam_soil_sat'] = 125.0 # wet unit weight of soil (lbf/ft^3)\n",
    "CONST['gam_bldr'] = 2.65*CONST['gam_wat'] # unit weight of boulder (lbf/ft^3)\n",
    "CONST['C_DU'] = 1.2 # coefficient of drag, for blunt rootwad facing upstream (per WDFW)\n",
    "CONST['C_DP'] = 0.4 # coefficient of drag, for log near parallel (per WDFW)\n",
    "CONST['mu_gravel'] = 0.9 # coefficient of friction for gravel\n",
    "CONST['mu_sand'] = 0.4 # coefficient of friction for sand\n",
    "####################################################################################################\n",
    "####################################################################################################"
   ]
  },
  {
   "cell_type": "markdown",
   "metadata": {},
   "source": [
    "Next, we will specify the design velocity, defined as a multiple of the average of maximum channel velocity for the design event."
   ]
  },
  {
   "cell_type": "code",
   "execution_count": 3,
   "metadata": {},
   "outputs": [
    {
     "name": "stdout",
     "output_type": "stream",
     "text": [
      "design velocity: v_1 = 12.0 ft/s\n"
     ]
    }
   ],
   "source": [
    "####################################################################################################\n",
    "####################################################################################################\n",
    "v_ave = 8 # approximate channel velocity at 100-year event (ft/s)\n",
    "v_1 = 1.5*v_ave # design velocity (ft/s)\n",
    "print(\"design velocity: v_1 = \"+str(v_1) + \" ft/s\")\n",
    "####################################################################################################\n",
    "####################################################################################################"
   ]
  },
  {
   "cell_type": "markdown",
   "metadata": {},
   "source": [
    "Now, we will define our large wood component parameters, again using structured arrays."
   ]
  },
  {
   "cell_type": "code",
   "execution_count": 4,
   "metadata": {},
   "outputs": [],
   "source": [
    "####################################################################################################\n",
    "####################################################################################################\n",
    "## INPUT PARAMETERS\n",
    "####################################################################################################\n",
    "####################################################################################################\n",
    "# create LOG structured array, defining member log components, preallocate with zeros \n",
    "LOG = np.zeros(1, dtype={'names':('Diam_in', 'Len_ft', 'Num', 'alpha', 'dep_ft', 'R_embed', 'subm'),\n",
    "                         'formats':('f8', 'f8', 'i4', 'f8', 'f8', 'f8', 'f8')})\n",
    "# create BLDR structured array, defining member boulder ballast components, preallocate with zeros \n",
    "BLDR = np.zeros(1, dtype={'names':('Diam_in', 'Num', 'subm'),\n",
    "                          'formats':('f8', 'i4', 'f8')})\n",
    "# create DEP structured array, defining relevant depths of soil and water, preallocate with zeros \n",
    "DEP = np.zeros(1, dtype={'names':('soil', 'water'),\n",
    "                         'formats':('f8', 'f8')})\n",
    "# create JAM structured array, defining relevant JAM dimensions [THIS IS UNUSED], preallocate with zeros \n",
    "JAM = np.zeros(1, dtype={'names':('len_ft', 'wid_ft', 'dep_ft'),\n",
    "                         'formats':('f8', 'f8', 'f8')})\n",
    "####################################################################################################\n",
    "# define parameters\n",
    "##\n",
    "LOG['Diam_in'] = 18 # log member diameter (in)\n",
    "LOG['Len_ft'] = 12 # log member length (ft)\n",
    "LOG['Num'] = 1 # number of log members\n",
    "LOG['alpha'] = 90 # angle to flow of log member (degrees)\n",
    "LOG['dep_ft'] = 3.0 # depth of jam normal to incident of flow (ft)\n",
    "LOG['R_embed'] = 0.6 # fraction of log member embedded\n",
    "LOG['subm'] = 1 # fraction of log member submerged\n",
    "##\n",
    "BLDR['Diam_in'] = 35 # boulder ballast diameter (in)\n",
    "BLDR['Num'] = 0 # number of boulder ballasts\n",
    "BLDR['subm'] = 0 # # fraction of boulder submerged\n",
    "##\n",
    "DEP['soil'] = 3.5 # depth of soil over embedded log member (ft)\n",
    "DEP['water'] = 6.0 # depth of water for design event (ft)\n",
    "##\n",
    "JAM['len_ft'] = 4.0 # length of jam parallel to incident of flow (ft)\n",
    "JAM['wid_ft'] = 5.0 # width of jam normal to incident of flow (ft)\n",
    "JAM['dep_ft'] = 3.0 # depth of jam normal to incident of flow (ft)\n",
    "####################################################################################################\n",
    "####################################################################################################"
   ]
  },
  {
   "cell_type": "markdown",
   "metadata": {},
   "source": [
    "We will now define a range of log diameters and log lengths for which to calculate factors of safety. All other parameters are the same as defined above."
   ]
  },
  {
   "cell_type": "code",
   "execution_count": 5,
   "metadata": {},
   "outputs": [],
   "source": [
    "####################################################################################################\n",
    "####################################################################################################\n",
    "# range of log diameters (in)\n",
    "Dlogm = np.matrix(np.arange(6,37,0.5))\n",
    "# range of log lengths (ft)\n",
    "Llogm = np.transpose(np.matrix(np.arange(5,36,1)))\n",
    "# create and preallocate LOGm, which will create a matrix of factors of safety\n",
    "tp = np.dtype([('Diam_in', 'f8', np.shape(Dlogm)), ('Len_ft', 'f8', np.shape(Llogm)),\n",
    "              ('Num', 'i4'), ('alpha', 'f8'), ('dep_ft', 'f8'), ('R_embed', 'f8'), ('subm','f8')])\n",
    "LOGm = np.zeros(1, dtype=tp)\n",
    "# define parameters\n",
    "LOGm['Diam_in'] = Dlogm\n",
    "LOGm['Len_ft'] = Llogm\n",
    "LOGm['Num'] = LOG['Num']\n",
    "LOGm['alpha'] = LOG['alpha']\n",
    "LOGm['dep_ft'] = LOG['dep_ft']\n",
    "LOGm['R_embed'] = LOG['R_embed']\n",
    "LOGm['subm'] = LOG['subm']\n",
    "####################################################################################################\n",
    "####################################################################################################"
   ]
  },
  {
   "cell_type": "markdown",
   "metadata": {},
   "source": [
    "Now, we will calculate the factors of safety (for uplift and drag) for the ranges of diameter and lengths as well as for the specific values defined in the \"Input Parameters\" section above."
   ]
  },
  {
   "cell_type": "code",
   "execution_count": 6,
   "metadata": {},
   "outputs": [
    {
     "name": "stdout",
     "output_type": "stream",
     "text": [
      "Gravity force on log: F_G = [0.55] tonf\n",
      "Buoyant force on log: F_B = [0.49] tonf\n",
      "Drag force on log: F_D = [0.59] tonf\n",
      "Friction force on log: F_F = [1.31] tonf\n",
      "uplift factor of safety, FS_U = 4.0\n",
      "drag factor of safety, FS_D = 2.22\n"
     ]
    }
   ],
   "source": [
    "FS_U_m, FS_D_m = LWD_calcs(12, LOGm, BLDR, DEP, CONST)\n",
    "FS_U_single, FS_D_single = LWD_calcs(12, LOG, BLDR, DEP, CONST)\n",
    "print('uplift factor of safety, FS_U = ' + str(round(float(FS_U_single),2)))\n",
    "print('drag factor of safety, FS_D = ' + str(round(float(FS_D_single),2)))"
   ]
  },
  {
   "cell_type": "markdown",
   "metadata": {},
   "source": [
    "Finally, we will plot the selected log dimensions over contours of the factor of safety."
   ]
  },
  {
   "cell_type": "code",
   "execution_count": 8,
   "metadata": {},
   "outputs": [
    {
     "data": {
      "image/png": "[encoded data removed]",
      "text/plain": [
       "<Figure size 432x288 with 2 Axes>"
      ]
     },
     "metadata": {},
     "output_type": "display_data"
    }
   ],
   "source": [
    "plt.rcParams.update({'font.size': 14})\n",
    "fig1, ax1 = plt.subplots()\n",
    "CS1 = plt.contourf(np.tile(Dlogm,[np.size(Llogm), 1]),\n",
    "            np.tile(Llogm,[1, np.size(Dlogm)]),\n",
    "            np.minimum(FS_U_m, FS_D_m),\n",
    "            levels = [0, 0.5, 1, 1.5, 2],\n",
    "            extend = 'both',\n",
    "            cmap = plt.cm.gist_heat,\n",
    "            alpha = 0.5)\n",
    "CS2 = plt.contour(np.tile(Dlogm,[np.size(Llogm), 1]),\n",
    "            np.tile(Llogm,[1, np.size(Dlogm)]),\n",
    "            np.minimum(FS_U_m, FS_D_m),\n",
    "            levels = [-1000, 2, 1000],\n",
    "            colors = 'k',\n",
    "            linestyles = ':',\n",
    "            linewidths = 4)\n",
    "plt.plot(LOG['Diam_in'], LOG['Len_ft'], 'xk',\n",
    "         markersize=25,\n",
    "         markeredgewidth=10)\n",
    "cbar = fig1.colorbar(CS1)\n",
    "cbar.add_lines(CS2)\n",
    "cbar.ax.set_ylabel('min(FS$_U$, FS$_D$)')\n",
    "ax1.set_xlabel('Member diameter, $\\it{D}$ (inches)')\n",
    "ax1.set_ylabel('Member length, $\\it{L}$ (feet)')\n",
    "plt.title('TownsendCr_LWD_Embed_v1pjf-final')\n",
    "plt.show()"
   ]
  }
 ],
 "metadata": {
  "kernelspec": {
   "display_name": "Python 3",
   "language": "python",
   "name": "python3"
  },
  "language_info": {
   "codemirror_mode": {
    "name": "ipython",
    "version": 3
   },
   "file_extension": ".py",
   "mimetype": "text/x-python",
   "name": "python",
   "nbconvert_exporter": "python",
   "pygments_lexer": "ipython3",
   "version": "3.6.4"
  }
 },
 "nbformat": 4,
 "nbformat_minor": 2
}
